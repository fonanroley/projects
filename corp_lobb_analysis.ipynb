{
 "cells": [
  {
   "cell_type": "markdown",
   "id": "6a06d43d",
   "metadata": {},
   "source": [
    "# Analysis of Corporate Lobbying"
   ]
  },
  {
   "cell_type": "markdown",
   "id": "fed875b0",
   "metadata": {},
   "source": [
    "<p>\n",
    "This notebook will contain analysis of the master_df scraped and updated <br>\n",
    "from corporate_lobbying.ipynb and update_master.ipynb.\n",
    "<br><br>\n",
    "This will be a slow burn - my data goes back to Aug 5 2025 and the website which I am <br>\n",
    "scraping from gets updated daily.\n",
    "<br><br>\n",
    "I want to gather data slowly and over time see how the amount of corporate lobbying affects <br>\n",
    "the stock price of the companies conducting the lobbying.\n",
    "</p>"
   ]
  },
  {
   "cell_type": "code",
   "execution_count": 19,
   "id": "322e4112",
   "metadata": {},
   "outputs": [],
   "source": [
    "import pandas as pd\n",
    "import matplotlib.pyplot as plt\n",
    "import yfinance as yf\n",
    "import datetime as dt\n",
    "import matplotlib.pyplot as plt"
   ]
  },
  {
   "cell_type": "code",
   "execution_count": 33,
   "id": "19d94afb",
   "metadata": {},
   "outputs": [],
   "source": [
    "df = pd.read_csv(r'C:\\Users\\ronan\\Projects\\master_df.csv', parse_dates=['Date'], dayfirst=True)"
   ]
  },
  {
   "cell_type": "code",
   "execution_count": 34,
   "id": "e019cfb3",
   "metadata": {},
   "outputs": [
    {
     "data": {
      "text/plain": [
       "(211, 4)"
      ]
     },
     "execution_count": 34,
     "metadata": {},
     "output_type": "execute_result"
    }
   ],
   "source": [
    "df.shape"
   ]
  },
  {
   "cell_type": "code",
   "execution_count": 7,
   "id": "112296b8",
   "metadata": {},
   "outputs": [
    {
     "data": {
      "image/png": "[encoded data removed]",
      "text/plain": [
       "<Figure size 640x480 with 1 Axes>"
      ]
     },
     "metadata": {},
     "output_type": "display_data"
    }
   ],
   "source": [
    "totals = df.groupby('Ticker')['Amount'].sum().sort_values(ascending=False).head()\n",
    "\n",
    "fig, ax = plt.subplots()\n",
    "bars = ax.bar(totals.index, totals.values / 1_000_000)\n",
    "ax.set_ylabel(\"Total Amount (Millions)\")\n",
    "\n",
    "ax.bar_label(bars,\n",
    "             labels=[f\"${v/1_000_000:.2f}M\" for v in totals.values],\n",
    "             padding=3)\n",
    "plt.tight_layout()\n",
    "plt.title('Top 5 Corporate Lobbying Spenders')\n",
    "plt.show()"
   ]
  },
  {
   "cell_type": "code",
   "execution_count": 8,
   "id": "08b7b9d0",
   "metadata": {},
   "outputs": [
    {
     "data": {
      "text/plain": [
       "Ticker\n",
       "V       15960000\n",
       "INTC     4850000\n",
       "LMT      3921415\n",
       "PFE      3740000\n",
       "SO       2780000\n",
       "TAK      1570000\n",
       "ARDX     1280000\n",
       "CTVA      900000\n",
       "FLR       875887\n",
       "BAH       680000\n",
       "Name: Amount, dtype: int64"
      ]
     },
     "execution_count": 8,
     "metadata": {},
     "output_type": "execute_result"
    }
   ],
   "source": [
    "df.groupby('Ticker')['Amount'].sum().sort_values(ascending=False).head(10)"
   ]
  },
  {
   "cell_type": "markdown",
   "id": "4bf3d133",
   "metadata": {},
   "source": [
    "<p>\n",
    "Recently the ticker V (Visa) jumped head of INTC as the company who has lobbied the most since I started recording data <br>\n",
    "I want to look more into this because they spent almost $16m on lobbying\n",
    "</p>"
   ]
  },
  {
   "cell_type": "code",
   "execution_count": 9,
   "id": "65c05844",
   "metadata": {},
   "outputs": [
    {
     "data": {
      "text/html": [
       "<div>\n",
       "<style scoped>\n",
       "    .dataframe tbody tr th:only-of-type {\n",
       "        vertical-align: middle;\n",
       "    }\n",
       "\n",
       "    .dataframe tbody tr th {\n",
       "        vertical-align: top;\n",
       "    }\n",
       "\n",
       "    .dataframe thead th {\n",
       "        text-align: right;\n",
       "    }\n",
       "</style>\n",
       "<table border=\"1\" class=\"dataframe\">\n",
       "  <thead>\n",
       "    <tr style=\"text-align: right;\">\n",
       "      <th></th>\n",
       "      <th>Ticker</th>\n",
       "      <th>Company Name</th>\n",
       "      <th>Amount</th>\n",
       "      <th>Date</th>\n",
       "    </tr>\n",
       "  </thead>\n",
       "  <tbody>\n",
       "    <tr>\n",
       "      <th>88</th>\n",
       "      <td>V</td>\n",
       "      <td>Visa Inc.</td>\n",
       "      <td>1420000</td>\n",
       "      <td>2025-09-26</td>\n",
       "    </tr>\n",
       "    <tr>\n",
       "      <th>89</th>\n",
       "      <td>V</td>\n",
       "      <td>Visa Inc.</td>\n",
       "      <td>2030000</td>\n",
       "      <td>2025-09-26</td>\n",
       "    </tr>\n",
       "    <tr>\n",
       "      <th>90</th>\n",
       "      <td>V</td>\n",
       "      <td>Visa Inc.</td>\n",
       "      <td>1810000</td>\n",
       "      <td>2025-09-26</td>\n",
       "    </tr>\n",
       "    <tr>\n",
       "      <th>91</th>\n",
       "      <td>V</td>\n",
       "      <td>Visa Inc.</td>\n",
       "      <td>1800000</td>\n",
       "      <td>2025-09-26</td>\n",
       "    </tr>\n",
       "    <tr>\n",
       "      <th>92</th>\n",
       "      <td>V</td>\n",
       "      <td>Visa Inc.</td>\n",
       "      <td>2110000</td>\n",
       "      <td>2025-09-26</td>\n",
       "    </tr>\n",
       "    <tr>\n",
       "      <th>93</th>\n",
       "      <td>V</td>\n",
       "      <td>Visa Inc.</td>\n",
       "      <td>2310000</td>\n",
       "      <td>2025-09-26</td>\n",
       "    </tr>\n",
       "    <tr>\n",
       "      <th>94</th>\n",
       "      <td>V</td>\n",
       "      <td>Visa Inc.</td>\n",
       "      <td>2440000</td>\n",
       "      <td>2025-09-26</td>\n",
       "    </tr>\n",
       "    <tr>\n",
       "      <th>95</th>\n",
       "      <td>V</td>\n",
       "      <td>Visa Inc.</td>\n",
       "      <td>2040000</td>\n",
       "      <td>2025-09-26</td>\n",
       "    </tr>\n",
       "  </tbody>\n",
       "</table>\n",
       "</div>"
      ],
      "text/plain": [
       "   Ticker Company Name   Amount        Date\n",
       "88      V    Visa Inc.  1420000  2025-09-26\n",
       "89      V    Visa Inc.  2030000  2025-09-26\n",
       "90      V    Visa Inc.  1810000  2025-09-26\n",
       "91      V    Visa Inc.  1800000  2025-09-26\n",
       "92      V    Visa Inc.  2110000  2025-09-26\n",
       "93      V    Visa Inc.  2310000  2025-09-26\n",
       "94      V    Visa Inc.  2440000  2025-09-26\n",
       "95      V    Visa Inc.  2040000  2025-09-26"
      ]
     },
     "execution_count": 9,
     "metadata": {},
     "output_type": "execute_result"
    }
   ],
   "source": [
    "df[df['Ticker'] == 'V']"
   ]
  },
  {
   "cell_type": "markdown",
   "id": "53635e1f",
   "metadata": {},
   "source": [
    "<p>\n",
    "Holy shit - they spent $16m dollars in one day on lobbying - lets see how their stock has since reacted to see if there has been a<br>\n",
    "significant reaction\n",
    "</p>"
   ]
  },
  {
   "cell_type": "code",
   "execution_count": 12,
   "id": "ddcddb16",
   "metadata": {},
   "outputs": [
    {
     "data": {
      "image/png": "[encoded data removed]",
      "text/plain": [
       "<Figure size 1200x600 with 2 Axes>"
      ]
     },
     "metadata": {},
     "output_type": "display_data"
    }
   ],
   "source": [
    "# Example stock data\n",
    "ticker = yf.Ticker(\"V\")\n",
    "price_data = ticker.history(period=\"30d\", interval=\"1d\")\n",
    "\n",
    "# --- Convert Date column to datetime ---\n",
    "df['Date'] = pd.to_datetime(df['Date'])\n",
    "\n",
    "# Filter Visa\n",
    "visa_df = df[df['Ticker'] == 'V']\n",
    "\n",
    "# Compute total Amount\n",
    "total_amount = visa_df['Amount'].sum()\n",
    "\n",
    "# Pick a date to position the bar (e.g., the last date in your stock data)\n",
    "bar_date = pd.to_datetime(\"2025-09-26\")\n",
    "\n",
    "# --- Plot ---\n",
    "fig, ax1 = plt.subplots(figsize=(12,6))\n",
    "\n",
    "# Stock price\n",
    "ax1.plot(price_data.index, price_data[\"Close\"], label=\"Visa Stock Price (Hourly)\", color=\"blue\")\n",
    "ax1.set_xlabel(\"Date\")\n",
    "ax1.set_ylabel(\"Stock Price (USD)\", color=\"blue\")\n",
    "ax1.tick_params(axis=\"y\", labelcolor=\"blue\")\n",
    "\n",
    "# Amount bar on secondary y-axis\n",
    "ax2 = ax1.twinx()\n",
    "ax2.bar(bar_date, total_amount, width=0.5, color=\"orange\", alpha=0.5, label=\"Total Amount Lobbyed\")\n",
    "ax2.set_ylabel(\"Amount Lobbyed\", color=\"orange\")\n",
    "ax2.tick_params(axis=\"y\", labelcolor=\"orange\")\n",
    "\n",
    "# Title and legends\n",
    "fig.suptitle(\"Visa Stock Price with Total Amount Lobbyed Overlay\")\n",
    "fig.legend(loc=\"upper left\")\n",
    "\n",
    "plt.show()"
   ]
  },
  {
   "cell_type": "markdown",
   "id": "788cde60",
   "metadata": {},
   "source": [
    "<p>\n",
    "So I have my dataset - I want to write a function where you can plot the ticker price against the total amount lobbyed<br>\n",
    "(like the plot above). But I want it to be automated where the user just inputs the ticker, the start date will be fixed to the<br>\n",
    "start of the dataset and the end date will be always yesterdays date.\n",
    "<p>"
   ]
  },
  {
   "cell_type": "code",
   "execution_count": 14,
   "id": "a07ef5a5",
   "metadata": {},
   "outputs": [
    {
     "data": {
      "text/html": [
       "<div>\n",
       "<style scoped>\n",
       "    .dataframe tbody tr th:only-of-type {\n",
       "        vertical-align: middle;\n",
       "    }\n",
       "\n",
       "    .dataframe tbody tr th {\n",
       "        vertical-align: top;\n",
       "    }\n",
       "\n",
       "    .dataframe thead th {\n",
       "        text-align: right;\n",
       "    }\n",
       "</style>\n",
       "<table border=\"1\" class=\"dataframe\">\n",
       "  <thead>\n",
       "    <tr style=\"text-align: right;\">\n",
       "      <th></th>\n",
       "      <th>Ticker</th>\n",
       "      <th>Company Name</th>\n",
       "      <th>Amount</th>\n",
       "      <th>Date</th>\n",
       "    </tr>\n",
       "  </thead>\n",
       "  <tbody>\n",
       "    <tr>\n",
       "      <th>206</th>\n",
       "      <td>SATS</td>\n",
       "      <td>Echostar Corporation/Dba Dish</td>\n",
       "      <td>17500</td>\n",
       "      <td>2025-08-05</td>\n",
       "    </tr>\n",
       "    <tr>\n",
       "      <th>207</th>\n",
       "      <td>JNJ</td>\n",
       "      <td>Johnson &amp; Johnson</td>\n",
       "      <td>30000</td>\n",
       "      <td>2025-08-05</td>\n",
       "    </tr>\n",
       "    <tr>\n",
       "      <th>208</th>\n",
       "      <td>BSX</td>\n",
       "      <td>Boston Scientific Corporation</td>\n",
       "      <td>20000</td>\n",
       "      <td>2025-08-05</td>\n",
       "    </tr>\n",
       "    <tr>\n",
       "      <th>209</th>\n",
       "      <td>LUV</td>\n",
       "      <td>Southwest Airlines</td>\n",
       "      <td>20000</td>\n",
       "      <td>2025-08-05</td>\n",
       "    </tr>\n",
       "    <tr>\n",
       "      <th>210</th>\n",
       "      <td>ATEX</td>\n",
       "      <td>Anterix</td>\n",
       "      <td>5000</td>\n",
       "      <td>2025-08-05</td>\n",
       "    </tr>\n",
       "  </tbody>\n",
       "</table>\n",
       "</div>"
      ],
      "text/plain": [
       "    Ticker                   Company Name  Amount       Date\n",
       "206   SATS  Echostar Corporation/Dba Dish   17500 2025-08-05\n",
       "207    JNJ              Johnson & Johnson   30000 2025-08-05\n",
       "208    BSX  Boston Scientific Corporation   20000 2025-08-05\n",
       "209    LUV             Southwest Airlines   20000 2025-08-05\n",
       "210   ATEX                        Anterix    5000 2025-08-05"
      ]
     },
     "execution_count": 14,
     "metadata": {},
     "output_type": "execute_result"
    }
   ],
   "source": [
    "def get_price_data(ticker, start_date):\n",
    "    # Always set end date to yesterday\n",
    "    end_date = dt.date.today() - dt.timedelta(days=1)\n",
    "\n",
    "    # Download price data\n",
    "    df = yf.download(\n",
    "        ticker,\n",
    "        start=start_date,\n",
    "        end=end_date,\n",
    "        progress=False\n",
    "    )\n",
    "\n",
    "    # Optional: reset index so Date is a column\n",
    "    df.reset_index(inplace=True)\n",
    "\n",
    "    return df"
   ]
  },
  {
   "cell_type": "code",
   "execution_count": 22,
   "id": "72a35c24",
   "metadata": {},
   "outputs": [
    {
     "data": {
      "text/html": [
       "<div>\n",
       "<style scoped>\n",
       "    .dataframe tbody tr th:only-of-type {\n",
       "        vertical-align: middle;\n",
       "    }\n",
       "\n",
       "    .dataframe tbody tr th {\n",
       "        vertical-align: top;\n",
       "    }\n",
       "\n",
       "    .dataframe thead th {\n",
       "        text-align: right;\n",
       "    }\n",
       "</style>\n",
       "<table border=\"1\" class=\"dataframe\">\n",
       "  <thead>\n",
       "    <tr style=\"text-align: right;\">\n",
       "      <th></th>\n",
       "      <th>Ticker</th>\n",
       "      <th>Company Name</th>\n",
       "      <th>Amount</th>\n",
       "      <th>Date</th>\n",
       "    </tr>\n",
       "  </thead>\n",
       "  <tbody>\n",
       "    <tr>\n",
       "      <th>45</th>\n",
       "      <td>JNJ</td>\n",
       "      <td>Johnson &amp; Johnson</td>\n",
       "      <td>30000</td>\n",
       "      <td>2025-10-02</td>\n",
       "    </tr>\n",
       "    <tr>\n",
       "      <th>207</th>\n",
       "      <td>JNJ</td>\n",
       "      <td>Johnson &amp; Johnson</td>\n",
       "      <td>30000</td>\n",
       "      <td>2025-08-05</td>\n",
       "    </tr>\n",
       "  </tbody>\n",
       "</table>\n",
       "</div>"
      ],
      "text/plain": [
       "    Ticker       Company Name  Amount       Date\n",
       "45     JNJ  Johnson & Johnson   30000 2025-10-02\n",
       "207    JNJ  Johnson & Johnson   30000 2025-08-05"
      ]
     },
     "execution_count": 22,
     "metadata": {},
     "output_type": "execute_result"
    }
   ],
   "source": [
    "df[df['Ticker'] == 'JNJ']"
   ]
  },
  {
   "cell_type": "code",
   "execution_count": null,
   "id": "9a56bacf",
   "metadata": {},
   "outputs": [],
   "source": [
    "#function to group and sum lobbied amounts by date\n",
    "\n",
    "def sum_amounts_by_date(df, ticker):\n",
    "    # Filter for the specific ticker\n",
    "    ticker_df = df[df['Ticker'] == ticker].copy()\n",
    "\n",
    "    # Make sure Date is in datetime format\n",
    "    ticker_df['Date'] = pd.to_datetime(ticker_df['Date'])\n",
    "\n",
    "    # Group by Date and sum the Amount column\n",
    "    grouped = (\n",
    "        ticker_df.groupby('Date', as_index=False)['Amount']\n",
    "        .sum()\n",
    "        .sort_values('Date')\n",
    "    )\n",
    "\n",
    "    return grouped"
   ]
  },
  {
   "cell_type": "code",
   "execution_count": 27,
   "id": "0c31c8d5",
   "metadata": {},
   "outputs": [
    {
     "data": {
      "text/html": [
       "<div>\n",
       "<style scoped>\n",
       "    .dataframe tbody tr th:only-of-type {\n",
       "        vertical-align: middle;\n",
       "    }\n",
       "\n",
       "    .dataframe tbody tr th {\n",
       "        vertical-align: top;\n",
       "    }\n",
       "\n",
       "    .dataframe thead th {\n",
       "        text-align: right;\n",
       "    }\n",
       "</style>\n",
       "<table border=\"1\" class=\"dataframe\">\n",
       "  <thead>\n",
       "    <tr style=\"text-align: right;\">\n",
       "      <th></th>\n",
       "      <th>Date</th>\n",
       "      <th>Amount</th>\n",
       "    </tr>\n",
       "  </thead>\n",
       "  <tbody>\n",
       "    <tr>\n",
       "      <th>0</th>\n",
       "      <td>2025-09-26</td>\n",
       "      <td>15960000</td>\n",
       "    </tr>\n",
       "  </tbody>\n",
       "</table>\n",
       "</div>"
      ],
      "text/plain": [
       "        Date    Amount\n",
       "0 2025-09-26  15960000"
      ]
     },
     "execution_count": 27,
     "metadata": {},
     "output_type": "execute_result"
    }
   ],
   "source": [
    "sum_amounts_by_date(df=df, ticker='V')"
   ]
  },
  {
   "cell_type": "code",
   "execution_count": null,
   "id": "deb4c7db",
   "metadata": {},
   "outputs": [],
   "source": [
    "def stock_lobby_analysis(df = pd.DataFrame, ticker = str(), interval = str()):\n",
    "    \n",
    "    # grab the lobbied amount and group + sum by date\n",
    "    ticker_lobby_df = sum_amounts_by_date(df=df, ticker=ticker)\n",
    "    \n",
    "    # set start date to the beginning date of the dataframe\n",
    "    start_date = pd.to_datetime(df['Date'].iloc[0])\n",
    "    \n",
    "    #set end date to yesterday\n",
    "    end_date = dt.date.today() - dt.timedelta(days=1)\n",
    "    \n",
    "    #pull ticker price data\n",
    "    df_ticker = yf.dowload(\n",
    "        ticker,\n",
    "        start = start_date,\n",
    "        end = end_date,\n",
    "        interval = interval,\n",
    "        progress = False\n",
    "    )\n",
    "    \n",
    "    df_ticker.reset_index(inplace = True)\n",
    "    \n",
    "    df_ticker['avg_price'] = (df_ticker['High'] + df_ticker['Low']) / 2\n",
    "    \n",
    "    \n",
    "    \n",
    "    \n",
    "    \n",
    "    "
   ]
  },
  {
   "cell_type": "code",
   "execution_count": null,
   "id": "2f72da6f",
   "metadata": {},
   "outputs": [
    {
     "name": "stderr",
     "output_type": "stream",
     "text": [
      "C:\\Users\\ronan\\AppData\\Local\\Temp\\ipykernel_23988\\458982695.py:11: FutureWarning: YF.download() has changed argument auto_adjust default to True\n",
      "  df_ticker = yf.download(\n"
     ]
    }
   ],
   "source": [
    "# grab the lobbied amount and group + sum by date\n",
    "ticker_lobby_df = sum_amounts_by_date(df=df, ticker='V')\n",
    "\n",
    "# set start date to the beginning date of the dataframe\n",
    "start_date = pd.to_datetime(df['Date'].iloc[-1])\n",
    "\n",
    "#set end date to yesterday\n",
    "end_date = dt.date.today() - dt.timedelta(days=1)\n",
    "\n",
    "#pull ticker price data\n",
    "df_ticker = yf.download(\n",
    "    tickers='V',\n",
    "    start = start_date,\n",
    "    end = end_date,\n",
    "    interval = '1d',\n",
    "    progress = False\n",
    ")\n",
    "\n",
    "df_ticker.reset_index(inplace = True)\n",
    "\n",
    "df_ticker['avg_price'] = (df_ticker['High'] + df_ticker['Low']) / 2\n",
    "\n"
   ]
  }
 ],
 "metadata": {
  "kernelspec": {
   "display_name": "scraper_env",
   "language": "python",
   "name": "python3"
  },
  "language_info": {
   "codemirror_mode": {
    "name": "ipython",
    "version": 3
   },
   "file_extension": ".py",
   "mimetype": "text/x-python",
   "name": "python",
   "nbconvert_exporter": "python",
   "pygments_lexer": "ipython3",
   "version": "3.12.7"
  }
 },
 "nbformat": 4,
 "nbformat_minor": 5
}
