{
 "cells": [
  {
   "cell_type": "markdown",
   "id": "cd1d648a",
   "metadata": {},
   "source": [
    "# QB Stat Predictor"
   ]
  },
  {
   "cell_type": "markdown",
   "id": "4bb1e527",
   "metadata": {},
   "source": [
    "## Intro"
   ]
  },
  {
   "cell_type": "markdown",
   "id": "e116779f",
   "metadata": {
    "vscode": {
     "languageId": "plaintext"
    }
   },
   "source": [
    "<p>\n",
    "Have got a large dataset from profootbal reference which has the stats from all games for almost every player <br>\n",
    "I have taken Aaron Rodgers stats over every game <br>\n",
    "The aim is to see if I can accurately predict upcoming stats. <br>\n",
    "So model will be trained on data from beginning of player career. <br>\n",
    "Then will be tested on this seasons (2025) games to see how it performs. \n",
    "</p>"
   ]
  },
  {
   "cell_type": "markdown",
   "id": "62c4a10c",
   "metadata": {},
   "source": [
    "<p>\n",
    "I feel for the dataset I need to define all the column names for my own sake<br>\n",
    "I'll only do the technical ones - some are self explanatory\n",
    "<br><br>\n",
    "Yds         = yards gained by passing\n",
    "<br><br>\n",
    "Y/A         = yards gained per pass attempt\n",
    "<br><br>\n",
    "AY/A        = adjusted yards per pass attempt - To give a more comprehensive view of a quarterback's    performance than a simple yards-per-attempt average by including the impact of touchdowns and interceptions. Touchdowns are weighted positively, while interceptions are weighted negatively, providing a more robust single-number metric for evaluating a quarterback. \n",
    "<br><br>\n",
    "Rate        = passer rating\n",
    "<br><br>\n",
    "Sk          = sacks\n",
    "<br><br>\n",
    "Yds         = yards LOST due to sacking (change this to yds_sk)\n",
    "<br><br>\n",
    "Att         = rushing attempts (change to att_rush)\n",
    "<br><br>\n",
    "Yds         = total rushing yards (change to yds_rush)\n",
    "<br><br>\n",
    "TD          = rushing TD (change to td_rush)\n",
    "<br><br>\n",
    "Y/A         = rushing yards per attempt (change to Y/A_rush)\n",
    "<br><br>\n",
    "\n",
    "</p>"
   ]
  },
  {
   "cell_type": "markdown",
   "id": "105af821",
   "metadata": {},
   "source": [
    "## Import Libraries"
   ]
  },
  {
   "cell_type": "code",
   "execution_count": null,
   "id": "e04430fc",
   "metadata": {},
   "outputs": [],
   "source": [
    "#import necessary libraries\n",
    "\n",
    "import numpy as np\n",
    "import pandas as pd\n",
    "pd.set_option('display.max_columns', None)\n",
    "pd.set_option('display.max_rows', None)"
   ]
  },
  {
   "cell_type": "markdown",
   "id": "41392490",
   "metadata": {},
   "source": [
    "## Import Datasets"
   ]
  },
  {
   "cell_type": "code",
   "execution_count": null,
   "id": "a0368754",
   "metadata": {},
   "outputs": [],
   "source": [
    "#define path to datasets\n",
    "\n",
    "#regular season\n",
    "path_to_dataset = r'C:\\Users\\ronan\\Downloads\\Datasets\\NFLdata\\Aaron_rodgers.xlsx'\n",
    "df_reg = pd.read_excel(path_to_dataset, header=1)\n",
    "\n",
    "#playoffs\n",
    "path_to_dataset = r'C:\\Users\\ronan\\Downloads\\Datasets\\NFLdata\\aaron_rodgers_poff.xlsx'\n",
    "df_post = pd.read_excel(path_to_dataset, header=1)"
   ]
  },
  {
   "cell_type": "code",
   "execution_count": null,
   "id": "5ee06162",
   "metadata": {},
   "outputs": [],
   "source": [
    "df_reg.head()"
   ]
  },
  {
   "cell_type": "markdown",
   "id": "8d82e3cc",
   "metadata": {},
   "source": [
    "## Prep the dataframes"
   ]
  },
  {
   "cell_type": "code",
   "execution_count": null,
   "id": "d0e31f7e",
   "metadata": {},
   "outputs": [],
   "source": [
    "#make column to say whether its a regular or post season game\n",
    "\n",
    "#regular season\n",
    "df_reg['phase'] = 'reg'\n",
    "col_pos = df_reg.columns.get_loc('Date')+1\n",
    "df_reg.insert(col_pos, 'phase', df_reg.pop('phase'))\n",
    "\n",
    "#post season\n",
    "df_post['phase'] = 'post'\n",
    "col_pos = df_post.columns.get_loc('Date')+1\n",
    "df_post.insert(col_pos, 'phase', df_post.pop('phase'))"
   ]
  },
  {
   "cell_type": "code",
   "execution_count": null,
   "id": "47120992",
   "metadata": {},
   "outputs": [],
   "source": [
    "# join the regular and post seasons dataframes together\n",
    "# sort by date so its in chronological order\n",
    "\n",
    "df = pd.concat([df_reg, df_post], ignore_index=True)\n",
    "df = df.sort_values('Date').reset_index(drop=True)"
   ]
  },
  {
   "cell_type": "code",
   "execution_count": null,
   "id": "6b1a1a40",
   "metadata": {},
   "outputs": [],
   "source": [
    "#change the unnamed: 6 column to home/away\n",
    "\n",
    "df = df.rename(columns={'Unnamed: 6' : 'Home/Away'})\n",
    "\n",
    "\n",
    "# convert the values in home/away to home or away\n",
    "# super bowl is down as N for neutral so account for that too\n",
    "# write a lambda function to do this\n",
    "\n",
    "df['Home/Away'] = df['Home/Away'].apply(\n",
    "    lambda x: 'away' if x == '@' \n",
    "              else 'home' if pd.isna(x) \n",
    "              else 'neutral' if x == 'N' \n",
    "              else x\n",
    ")\n",
    "\n"
   ]
  },
  {
   "cell_type": "markdown",
   "id": "06f92891",
   "metadata": {},
   "source": [
    "<p>\n",
    "So a lot of the columns have the same names due to different sub headings <br>\n",
    "Like passing, rushing and recieving. <br>\n",
    "Going to drop the columns I don't think I need and then rename them for easier understanding.\n",
    "\n",
    "</p>"
   ]
  },
  {
   "cell_type": "code",
   "execution_count": null,
   "id": "575098b0",
   "metadata": {},
   "outputs": [],
   "source": [
    "df.head()"
   ]
  },
  {
   "cell_type": "code",
   "execution_count": null,
   "id": "c949a6f8",
   "metadata": {},
   "outputs": [],
   "source": [
    "cols_to_drop = [\n",
    "    'Gcar',\n",
    "    'Rk',           #Rank - not needed\n",
    "    'Gtm',          #Season game number for team - we have other trackers\n",
    "    'GS',           #Games Started - empty columns\n",
    "    'Tgt',          #Recieving stat\n",
    "    'Rec',          #recieving stat\n",
    "    'Yds.3',        #recieving stat\n",
    "    'Y/R',          #recieving stat\n",
    "    'TD.2',         #recieving stat\n",
    "    'Ctch%',        #recieving stat\n",
    "    'Y/Tgt',        #recieving stat\n",
    "    'Sk.1',         #defensive stat\n",
    "    'Comb',         #defensive stat\n",
    "    'Solo',         #defensive state\n",
    "    'Ast',          #defensive stat\n",
    "    'TFL',          #D state\n",
    "    'QBHits',       #D stat\n",
    "    'Sfty',         #team stat\n",
    "    'OffSnp',       #n/a\n",
    "    'Off%',         #n/a\n",
    "    'DefSnp',       #n/a\n",
    "    'Def%',         #n/a\n",
    "    'STSnp',        #n/a\n",
    "    'ST%'           #n/a\n",
    "]\n",
    "\n",
    "df = df.drop(columns=cols_to_drop)"
   ]
  },
  {
   "cell_type": "code",
   "execution_count": null,
   "id": "36274270",
   "metadata": {},
   "outputs": [],
   "source": [
    "#make column titles lower case\n",
    "df.columns = df.columns.str.lower()"
   ]
  },
  {
   "cell_type": "code",
   "execution_count": null,
   "id": "03bba0f8",
   "metadata": {},
   "outputs": [],
   "source": [
    "# now rename the columns\n",
    "df = df.rename(columns={\n",
    "    'cmp' : 'cmp_pass',\n",
    "    'att' : 'pass_att',\n",
    "    'cmp%' : 'cmp%_pass',\n",
    "    'y/a' : 'y/a_pass',\n",
    "    'ay/a' : 'ay/a_pass',\n",
    "    'yds' : 'pass_yds',\n",
    "    'td' : 'pass_td',\n",
    "    'yds.1' : 'sk_yds',\n",
    "    'att.1' : 'rush_att',\n",
    "    'yds.2' : 'rush_yds',\n",
    "    'td.1' : 'rush_td',\n",
    "    'y/a.1' : 'y/a_rush',\n",
    "    'yds.4' : 'yds_fr'    \n",
    "})"
   ]
  },
  {
   "cell_type": "code",
   "execution_count": null,
   "id": "1e3f7ec6",
   "metadata": {},
   "outputs": [],
   "source": [
    "df.info()"
   ]
  },
  {
   "cell_type": "code",
   "execution_count": null,
   "id": "168aaa6f",
   "metadata": {},
   "outputs": [],
   "source": [
    "df[df['week']].isna()"
   ]
  },
  {
   "cell_type": "markdown",
   "id": "425e7ab0",
   "metadata": {},
   "source": [
    "PRACTICING A NEW COMMIOT"
   ]
  }
 ],
 "metadata": {
  "kernelspec": {
   "display_name": "ATPenv",
   "language": "python",
   "name": "python3"
  },
  "language_info": {
   "codemirror_mode": {
    "name": "ipython",
    "version": 3
   },
   "file_extension": ".py",
   "mimetype": "text/x-python",
   "name": "python",
   "nbconvert_exporter": "python",
   "pygments_lexer": "ipython3",
   "version": "3.12.7"
  }
 },
 "nbformat": 4,
 "nbformat_minor": 5
}
